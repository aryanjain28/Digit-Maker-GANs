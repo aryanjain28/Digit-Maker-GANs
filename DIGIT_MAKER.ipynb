{
  "nbformat": 4,
  "nbformat_minor": 0,
  "metadata": {
    "colab": {
      "name": "DIGIT MAKER.ipynb",
      "provenance": []
    },
    "kernelspec": {
      "name": "python3",
      "display_name": "Python 3"
    },
    "accelerator": "GPU"
  },
  "cells": [
    {
      "cell_type": "code",
      "metadata": {
        "id": "79kZh-BBd5TY"
      },
      "source": [
        "import torch\r\n",
        "from torch import nn\r\n",
        "\r\n",
        "import math\r\n",
        "import matplotlib.pyplot as plt\r\n",
        "import matplotlib.pyplot as plt\r\n",
        "import torchvision\r\n",
        "import torchvision.transforms as transforms"
      ],
      "execution_count": 10,
      "outputs": []
    },
    {
      "cell_type": "code",
      "metadata": {
        "colab": {
          "base_uri": "https://localhost:8080/"
        },
        "id": "l5BlNJ5Pd7kK",
        "outputId": "5bfeb360-9cc6-4139-99f1-1c261e44f41d"
      },
      "source": [
        "torch.manual_seed(111)"
      ],
      "execution_count": 11,
      "outputs": [
        {
          "output_type": "execute_result",
          "data": {
            "text/plain": [
              "<torch._C.Generator at 0x7f708aca9b58>"
            ]
          },
          "metadata": {
            "tags": []
          },
          "execution_count": 11
        }
      ]
    },
    {
      "cell_type": "code",
      "metadata": {
        "id": "2D3p35ted7mv"
      },
      "source": [
        "device = \"\"\r\n",
        "if torch.cuda.is_available():\r\n",
        "  device = torch.device(\"cuda\")\r\n",
        "else:\r\n",
        "  device = torch.device(\"cpu\")"
      ],
      "execution_count": 12,
      "outputs": []
    },
    {
      "cell_type": "code",
      "metadata": {
        "colab": {
          "base_uri": "https://localhost:8080/"
        },
        "id": "eW1pPliQd7pP",
        "outputId": "1d068c07-352c-4a72-98cc-51d9f143543f"
      },
      "source": [
        "device"
      ],
      "execution_count": 13,
      "outputs": [
        {
          "output_type": "execute_result",
          "data": {
            "text/plain": [
              "device(type='cuda')"
            ]
          },
          "metadata": {
            "tags": []
          },
          "execution_count": 13
        }
      ]
    },
    {
      "cell_type": "code",
      "metadata": {
        "id": "JNziNcxmd7rt"
      },
      "source": [
        "transform = transforms.Compose(\r\n",
        "    [\r\n",
        "     transforms.ToTensor(),\r\n",
        "     transforms.Normalize((0.5,),(0.5,))\r\n",
        "    ]\r\n",
        ")"
      ],
      "execution_count": 14,
      "outputs": []
    },
    {
      "cell_type": "code",
      "metadata": {
        "id": "_cP60dysd7u_"
      },
      "source": [
        "trainSet = torchvision.datasets.MNIST(\r\n",
        "    root=\".\",\r\n",
        "    train=True,\r\n",
        "    download=True,\r\n",
        "    transform=transform\r\n",
        ")"
      ],
      "execution_count": 21,
      "outputs": []
    },
    {
      "cell_type": "code",
      "metadata": {
        "id": "eDpJ8z02fEUA"
      },
      "source": [
        "BATCH = 32\r\n",
        "trainLoader = torch.utils.data.DataLoader(\r\n",
        "    trainSet,\r\n",
        "    batch_size=BATCH,\r\n",
        "    shuffle=True\r\n",
        ")"
      ],
      "execution_count": 23,
      "outputs": []
    },
    {
      "cell_type": "code",
      "metadata": {
        "colab": {
          "base_uri": "https://localhost:8080/",
          "height": 252
        },
        "id": "PZzYucDKfEWp",
        "outputId": "3592b778-cf9a-4dee-c322-aa34587be678"
      },
      "source": [
        "REAL, REAL_LABELS = next(iter(trainLoader))\r\n",
        "for i in range(16):\r\n",
        "  ax = plt.subplot(4, 4, i+1)\r\n",
        "  plt.imshow(REAL[i].reshape(28, 28), cmap=\"gray_r\")\r\n",
        "  plt.xticks([])\r\n",
        "  plt.yticks([])"
      ],
      "execution_count": 24,
      "outputs": [
        {
          "output_type": "display_data",
          "data": {
            "image/png": "[encoded data removed]",
            "text/plain": [
              "<Figure size 432x288 with 16 Axes>"
            ]
          },
          "metadata": {
            "tags": []
          }
        }
      ]
    },
    {
      "cell_type": "code",
      "metadata": {
        "id": "fQKPhwBFfEZM"
      },
      "source": [
        "class Discriminator(nn.Module):\r\n",
        "  def __init__(self):\r\n",
        "    super().__init__()\r\n",
        "    self.model = nn.Sequential(\r\n",
        "        nn.Linear(784, 1024),\r\n",
        "        nn.ReLU(),\r\n",
        "        nn.Dropout(0.3),\r\n",
        "        nn.Linear(1024, 512),\r\n",
        "        nn.ReLU(),\r\n",
        "        nn.Dropout(0.3),\r\n",
        "        nn.Linear(512, 256),\r\n",
        "        nn.ReLU(),\r\n",
        "        nn.Dropout(0.3),\r\n",
        "        nn.Linear(256, 1),\r\n",
        "        nn.Sigmoid()\r\n",
        "    )\r\n",
        "  \r\n",
        "  def forward(self, x):\r\n",
        "    x = x.view(x.size(0), 784)\r\n",
        "    output = self.model(x)\r\n",
        "    return output"
      ],
      "execution_count": 25,
      "outputs": []
    },
    {
      "cell_type": "code",
      "metadata": {
        "id": "R-zwnm8HjtZO"
      },
      "source": [
        "class Generator(nn.Module):\r\n",
        "  def __init__(self):\r\n",
        "    super().__init__()\r\n",
        "    self.model = nn.Sequential(\r\n",
        "        nn.Linear(100, 256),\r\n",
        "        nn.ReLU(),\r\n",
        "        nn.Linear(256, 512),\r\n",
        "        nn.ReLU(),\r\n",
        "        nn.Linear(512, 1024),\r\n",
        "        nn.ReLU(),\r\n",
        "        nn.Linear(1024, 784),\r\n",
        "        nn.Tanh()\r\n",
        "    )\r\n",
        "\r\n",
        "  def forward(self, x):\r\n",
        "    output = self.model(x)\r\n",
        "    output = output.view(x.size(0), 1, 28, 28)\r\n",
        "    return output"
      ],
      "execution_count": 30,
      "outputs": []
    },
    {
      "cell_type": "code",
      "metadata": {
        "id": "w1tKTS3NfEcD"
      },
      "source": [
        "discriminator = Discriminator().to(device=device)\r\n",
        "generator = Generator().to(device=device)"
      ],
      "execution_count": 31,
      "outputs": []
    },
    {
      "cell_type": "code",
      "metadata": {
        "id": "IS0ItQgGfEec"
      },
      "source": [
        "lr = 0.0001\r\n",
        "EPOCHS = 50\r\n",
        "LOSS = nn.BCELoss()\r\n",
        "\r\n",
        "optimizer_discriminator = torch.optim.Adam(discriminator.parameters(), lr=lr)\r\n",
        "optimizer_generator = torch.optim.Adam(generator.parameters(), lr=lr)"
      ],
      "execution_count": 32,
      "outputs": []
    },
    {
      "cell_type": "code",
      "metadata": {
        "colab": {
          "base_uri": "https://localhost:8080/"
        },
        "id": "3Wd3FPu7lDo6",
        "outputId": "86c4be35-dccb-4ce6-b00f-9779f50dbff7"
      },
      "source": [
        "for epoch in range(EPOCHS):\r\n",
        "  for n, (REAL, REAL_LABELS) in enumerate(trainLoader):\r\n",
        "\r\n",
        "    #data for discriminator\r\n",
        "    REAL = REAL.to(device=device)\r\n",
        "    REAL_LABELS = torch.ones((BATCH, 1)).to(device=device)\r\n",
        "\r\n",
        "    LATENT_SPACE = torch.randn((BATCH, 100)).to(device=device)\r\n",
        "\r\n",
        "    GENERATED = generator(LATENT_SPACE)\r\n",
        "    GENERATED_LABELS = torch.zeros((BATCH, 1)).to(device=device)\r\n",
        "\r\n",
        "    ALL = torch.cat((REAL, GENERATED))\r\n",
        "    ALL_LABELS = torch.cat((REAL_LABELS, GENERATED_LABELS))\r\n",
        "\r\n",
        "    #training the discriminator\r\n",
        "    discriminator.zero_grad()\r\n",
        "    output_discriminator = discriminator(ALL)\r\n",
        "    loss_discriminator = LOSS(output_discriminator, ALL_LABELS)\r\n",
        "    loss_discriminator.backward()\r\n",
        "    optimizer_discriminator.step()\r\n",
        "\r\n",
        "    #data for generator\r\n",
        "    LATENT_SPACE = torch.randn((BATCH, 100)).to(device=device)\r\n",
        "\r\n",
        "    #training the generator\r\n",
        "    generator.zero_grad()\r\n",
        "    generated = generator(LATENT_SPACE)\r\n",
        "    output_discriminator_generated = discriminator(generated)\r\n",
        "    loss_generator = LOSS(output_discriminator_generated, REAL_LABELS)\r\n",
        "    loss_generator.backward()\r\n",
        "    optimizer_generator.step()\r\n",
        "\r\n",
        "    if n==BATCH-1:\r\n",
        "      print(f\"EPOCH: {epoch} Loss D : {loss_discriminator}\")\r\n",
        "      print(f\"EPOCH: {epoch} Loss G : {loss_generator}\")"
      ],
      "execution_count": 34,
      "outputs": [
        {
          "output_type": "stream",
          "text": [
            "EPOCH: 0 Loss D : 0.5044265985488892\n",
            "EPOCH: 0 Loss G : 0.5963003635406494\n",
            "EPOCH: 1 Loss D : 0.04656662046909332\n",
            "EPOCH: 1 Loss G : 4.147127628326416\n",
            "EPOCH: 2 Loss D : 0.033033836632966995\n",
            "EPOCH: 2 Loss G : 4.831940650939941\n",
            "EPOCH: 3 Loss D : 0.01894242875277996\n",
            "EPOCH: 3 Loss G : 7.684354782104492\n",
            "EPOCH: 4 Loss D : 0.03933675214648247\n",
            "EPOCH: 4 Loss G : 5.63691520690918\n",
            "EPOCH: 5 Loss D : 0.11160387098789215\n",
            "EPOCH: 5 Loss G : 3.373049259185791\n",
            "EPOCH: 6 Loss D : 0.10157826542854309\n",
            "EPOCH: 6 Loss G : 3.3620176315307617\n",
            "EPOCH: 7 Loss D : 0.06777077168226242\n",
            "EPOCH: 7 Loss G : 2.9960598945617676\n",
            "EPOCH: 8 Loss D : 0.16389617323875427\n",
            "EPOCH: 8 Loss G : 2.671438694000244\n",
            "EPOCH: 9 Loss D : 0.26114875078201294\n",
            "EPOCH: 9 Loss G : 3.3872365951538086\n",
            "EPOCH: 10 Loss D : 0.2204897701740265\n",
            "EPOCH: 10 Loss G : 2.796571731567383\n",
            "EPOCH: 11 Loss D : 0.2999878525733948\n",
            "EPOCH: 11 Loss G : 2.846165657043457\n",
            "EPOCH: 12 Loss D : 0.2732633948326111\n",
            "EPOCH: 12 Loss G : 1.5771280527114868\n",
            "EPOCH: 13 Loss D : 0.3545129895210266\n",
            "EPOCH: 13 Loss G : 1.6686128377914429\n",
            "EPOCH: 14 Loss D : 0.4080583155155182\n",
            "EPOCH: 14 Loss G : 1.8522664308547974\n",
            "EPOCH: 15 Loss D : 0.40851250290870667\n",
            "EPOCH: 15 Loss G : 1.743407964706421\n",
            "EPOCH: 16 Loss D : 0.4993654489517212\n",
            "EPOCH: 16 Loss G : 1.1446492671966553\n",
            "EPOCH: 17 Loss D : 0.39532798528671265\n",
            "EPOCH: 17 Loss G : 1.4896600246429443\n",
            "EPOCH: 18 Loss D : 0.4531511068344116\n",
            "EPOCH: 18 Loss G : 1.9108684062957764\n",
            "EPOCH: 19 Loss D : 0.3672698140144348\n",
            "EPOCH: 19 Loss G : 1.5166174173355103\n",
            "EPOCH: 20 Loss D : 0.5355241298675537\n",
            "EPOCH: 20 Loss G : 1.3371942043304443\n",
            "EPOCH: 21 Loss D : 0.640074610710144\n",
            "EPOCH: 21 Loss G : 1.2105604410171509\n",
            "EPOCH: 22 Loss D : 0.5136632919311523\n",
            "EPOCH: 22 Loss G : 1.3476749658584595\n",
            "EPOCH: 23 Loss D : 0.47535204887390137\n",
            "EPOCH: 23 Loss G : 1.2299649715423584\n",
            "EPOCH: 24 Loss D : 0.42562055587768555\n",
            "EPOCH: 24 Loss G : 1.5239872932434082\n",
            "EPOCH: 25 Loss D : 0.537421464920044\n",
            "EPOCH: 25 Loss G : 1.2676215171813965\n",
            "EPOCH: 26 Loss D : 0.48911136388778687\n",
            "EPOCH: 26 Loss G : 1.4059712886810303\n",
            "EPOCH: 27 Loss D : 0.5117596387863159\n",
            "EPOCH: 27 Loss G : 1.1337666511535645\n",
            "EPOCH: 28 Loss D : 0.5155428647994995\n",
            "EPOCH: 28 Loss G : 1.3569657802581787\n",
            "EPOCH: 29 Loss D : 0.626957893371582\n",
            "EPOCH: 29 Loss G : 1.2601817846298218\n",
            "EPOCH: 30 Loss D : 0.5402991771697998\n",
            "EPOCH: 30 Loss G : 1.2513463497161865\n",
            "EPOCH: 31 Loss D : 0.5959383249282837\n",
            "EPOCH: 31 Loss G : 1.0335361957550049\n",
            "EPOCH: 32 Loss D : 0.5782589316368103\n",
            "EPOCH: 32 Loss G : 1.1935077905654907\n",
            "EPOCH: 33 Loss D : 0.48335909843444824\n",
            "EPOCH: 33 Loss G : 1.295615315437317\n",
            "EPOCH: 34 Loss D : 0.5598873496055603\n",
            "EPOCH: 34 Loss G : 1.2806123495101929\n",
            "EPOCH: 35 Loss D : 0.6938889622688293\n",
            "EPOCH: 35 Loss G : 1.1141685247421265\n",
            "EPOCH: 36 Loss D : 0.46398261189460754\n",
            "EPOCH: 36 Loss G : 1.0482244491577148\n",
            "EPOCH: 37 Loss D : 0.4783494472503662\n",
            "EPOCH: 37 Loss G : 1.0229893922805786\n",
            "EPOCH: 38 Loss D : 0.5298789739608765\n",
            "EPOCH: 38 Loss G : 1.225387454032898\n",
            "EPOCH: 39 Loss D : 0.5789077281951904\n",
            "EPOCH: 39 Loss G : 1.0102616548538208\n",
            "EPOCH: 40 Loss D : 0.3929993808269501\n",
            "EPOCH: 40 Loss G : 1.209678292274475\n",
            "EPOCH: 41 Loss D : 0.5875102877616882\n",
            "EPOCH: 41 Loss G : 1.2610576152801514\n",
            "EPOCH: 42 Loss D : 0.4457692503929138\n",
            "EPOCH: 42 Loss G : 1.1492910385131836\n",
            "EPOCH: 43 Loss D : 0.6000840663909912\n",
            "EPOCH: 43 Loss G : 1.119920253753662\n",
            "EPOCH: 44 Loss D : 0.5254489183425903\n",
            "EPOCH: 44 Loss G : 0.9795503616333008\n",
            "EPOCH: 45 Loss D : 0.5213211178779602\n",
            "EPOCH: 45 Loss G : 1.1440269947052002\n",
            "EPOCH: 46 Loss D : 0.461472749710083\n",
            "EPOCH: 46 Loss G : 1.2719721794128418\n",
            "EPOCH: 47 Loss D : 0.5678865313529968\n",
            "EPOCH: 47 Loss G : 1.1358736753463745\n",
            "EPOCH: 48 Loss D : 0.4822768568992615\n",
            "EPOCH: 48 Loss G : 1.072671890258789\n",
            "EPOCH: 49 Loss D : 0.4418494999408722\n",
            "EPOCH: 49 Loss G : 1.19406259059906\n"
          ],
          "name": "stdout"
        }
      ]
    },
    {
      "cell_type": "code",
      "metadata": {
        "colab": {
          "base_uri": "https://localhost:8080/",
          "height": 252
        },
        "id": "pdFv73sqlDlo",
        "outputId": "bcc7b6ce-04ae-443c-80cc-ada4ef4f7985"
      },
      "source": [
        "latent_space_samples = torch.randn(BATCH, 100).to(device=device)\r\n",
        "generated_samples = generator(latent_space_samples)\r\n",
        "generated_samples = generated_samples.cpu().detach()\r\n",
        "\r\n",
        "for i in range(16):\r\n",
        "    ax = plt.subplot(4, 4, i + 1)\r\n",
        "    plt.imshow(generated_samples[i].reshape(28, 28), cmap=\"gray_r\")\r\n",
        "    plt.xticks([])\r\n",
        "    plt.yticks([])"
      ],
      "execution_count": 39,
      "outputs": [
        {
          "output_type": "display_data",
          "data": {
            "image/png": "[encoded data removed]",
            "text/plain": [
              "<Figure size 432x288 with 16 Axes>"
            ]
          },
          "metadata": {
            "tags": []
          }
        }
      ]
    },
    {
      "cell_type": "code",
      "metadata": {
        "id": "CrQXBKjblDjW"
      },
      "source": [
        ""
      ],
      "execution_count": null,
      "outputs": []
    },
    {
      "cell_type": "code",
      "metadata": {
        "id": "ff5cRuxKlDgr"
      },
      "source": [
        ""
      ],
      "execution_count": null,
      "outputs": []
    },
    {
      "cell_type": "code",
      "metadata": {
        "id": "TOcnALqElDeE"
      },
      "source": [
        ""
      ],
      "execution_count": null,
      "outputs": []
    },
    {
      "cell_type": "code",
      "metadata": {
        "id": "wq4wivm5fEh4"
      },
      "source": [
        ""
      ],
      "execution_count": null,
      "outputs": []
    }
  ]
}